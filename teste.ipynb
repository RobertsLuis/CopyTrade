{
 "cells": [
  {
   "cell_type": "code",
   "execution_count": null,
   "metadata": {},
   "outputs": [],
   "source": [
    "x = {'bejr2002@gmail.com': 123}\n",
    "\n",
    "print(x['asdasd'])\n",
    "\n",
    "x = \"\"\"\n",
    "[08:58, 26/02/2024] +55 71 9634-2928: Ricardo\n",
    "[08:58, 26/02/2024] Ramon Volei: Ramonzinho\n",
    "[08:58, 26/02/2024] Roberto Luis 🌎🎻: Roberto\n",
    "[08:58, 26/02/2024] Gustavo: Gustavo\n",
    "[08:58, 26/02/2024] +55 71 9120-5441: Jéssica\n",
    "[08:58, 26/02/2024] Benício: Benicio\n",
    "[08:58, 26/02/2024] Brito: Brito\n",
    "[08:58, 26/02/2024] Judth: Bom dia pessoal\n",
    "[08:58, 26/02/2024] +55 75 8848-5827: Caio\n",
    "[08:58, 26/02/2024] Luiza Nogueira: Luiza\n",
    "[08:58, 26/02/2024] Judth: Ju\n",
    "[08:58, 26/02/2024] Bruno Winycius: Bruno winycius\n",
    "[08:58, 26/02/2024] +55 71 8634-5016: Rafael\n",
    "[08:58, 26/02/2024] +55 71 8156-0905: Careca\n",
    "[08:58, 26/02/2024] +55 71 9943-7494: Donaldson\n",
    "[08:58, 26/02/2024] +55 71 9938-8775: Fabio conv\n",
    "[08:58, 26/02/2024] +55 71 9249-9790: Deiró\n",
    "[08:59, 26/02/2024] Ramon Volei: Klaiton Conv ramon\n",
    "[08:59, 26/02/2024] Paula: Paulinha\n",
    "[08:59, 26/02/2024] +55 71 8617-1755: Yan\n",
    "[09:00, 26/02/2024] +55 75 9713-6667: Nicolas\n",
    "[09:00, 26/02/2024] +55 71 9249-1536: Alan\n",
    "[09:04, 26/02/2024] +55 71 9611-6852: Daniela\n",
    "[09:06, 26/02/2024] Davi 🦇: Davi\n",
    "[09:06, 26/02/2024] Davi 🦇: Thalita (espera)\n",
    "[09:08, 26/02/2024] +55 71 8104-8288: Apólo\n",
    "[09:24, 26/02/2024] Yago Monteiro 🏄🏾‍♂️: Yago\n",
    "[09:24, 26/02/2024] +55 71 8851-9449: Mauricio\n",
    "[09:25, 26/02/2024] Aníbal: Anibal\n",
    "[09:40, 26/02/2024] +55 71 9217-0697: Thiago\"\"\""
   ]
  },
  {
   "cell_type": "code",
   "execution_count": 9,
   "metadata": {},
   "outputs": [
    {
     "name": "stdout",
     "output_type": "stream",
     "text": [
      "7965\n",
      "0203\n",
      "6944\n",
      "1210\n",
      "8280\n",
      "0375\n",
      "5743\n",
      "4780\n",
      "9135\n",
      "9295\n",
      "8933\n"
     ]
    }
   ],
   "source": [
    "import random\n",
    "from time import sleep\n",
    "# Gerar um número de 4 dígitos aleatório\n",
    "num = 0\n",
    "x = True\n",
    "\n",
    "while x:\n",
    "\n",
    "    num +=1\n",
    "    numero_aleatorio = random.randint(0, 9999)\n",
    "    numero_formatado = '{:04}'.format(numero_aleatorio)\n",
    "    print(numero_formatado)\n",
    "    sleep(0.5)\n",
    "\n",
    "    if num > 10:\n",
    "        x = None"
   ]
  },
  {
   "cell_type": "code",
   "execution_count": 1,
   "metadata": {},
   "outputs": [
    {
     "name": "stdout",
     "output_type": "stream",
     "text": [
      "Hoje: 2024-02-29 00:00:00\n",
      "Data Obtida: 2024-02-27 00:00:00\n",
      "Diff: 2\n",
      "Licença ativa: True\n",
      "{'email': 'bejr2002@gmail.com', 'nome': 'Roberto Luis', 'data': datetime.datetime(2024, 2, 27, 0, 0), 'tempo_expiracao': 93, 'diferenca_dias': 2, 'licenca_ativa': True}\n",
      "\n",
      "Hoje: 2024-02-29 00:00:00\n",
      "Data Obtida: 2024-02-27 00:00:00\n",
      "Diff: 2\n",
      "Licença ativa: True\n",
      "29 02 2024\n"
     ]
    }
   ],
   "source": [
    "from config_db import pesquisar_usuario, criar_usuario, renovar_usuario\n",
    "\n",
    "\n",
    "print(pesquisar_usuario('9959ROB'))\n",
    "\n",
    "print(\"\")\n",
    "\n",
    "renovar_usuario('9959ROB', 90)\n"
   ]
  },
  {
   "cell_type": "code",
   "execution_count": 2,
   "metadata": {},
   "outputs": [
    {
     "name": "stdout",
     "output_type": "stream",
     "text": [
      "Hoje: 2024-02-29 00:00:00\n",
      "Data Obtida: 2024-02-29 00:00:00\n",
      "Diff: 0\n",
      "Licença ativa: True\n",
      "{'email': 'bejr2002@gmail.com', 'nome': 'Roberto Luis', 'data': datetime.datetime(2024, 2, 29, 0, 0), 'tempo_expiracao': 183, 'diferenca_dias': 0, 'licenca_ativa': True}\n"
     ]
    }
   ],
   "source": [
    "print(pesquisar_usuario('9959ROB'))"
   ]
  }
 ],
 "metadata": {
  "kernelspec": {
   "display_name": "env",
   "language": "python",
   "name": "python3"
  },
  "language_info": {
   "codemirror_mode": {
    "name": "ipython",
    "version": 3
   },
   "file_extension": ".py",
   "mimetype": "text/x-python",
   "name": "python",
   "nbconvert_exporter": "python",
   "pygments_lexer": "ipython3",
   "version": "3.9.13"
  }
 },
 "nbformat": 4,
 "nbformat_minor": 2
}
